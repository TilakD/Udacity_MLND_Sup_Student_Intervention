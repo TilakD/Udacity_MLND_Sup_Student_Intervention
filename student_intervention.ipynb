{
 "cells": [
  {
   "cell_type": "markdown",
   "metadata": {},
   "source": [
    "# Machine Learning Engineer Nanodegree\n",
    "## Supervised Learning\n",
    "## Project: Building a Student Intervention System"
   ]
  },
  {
   "cell_type": "markdown",
   "metadata": {},
   "source": [
    "Welcome to the second project of the Machine Learning Engineer Nanodegree! In this notebook, some template code has already been provided for you, and it will be your job to implement the additional functionality necessary to successfully complete this project. Sections that begin with **'Implementation'** in the header indicate that the following block of code will require additional functionality which you must provide. Instructions will be provided for each section and the specifics of the implementation are marked in the code block with a `'TODO'` statement. Please be sure to read the instructions carefully!\n",
    "\n",
    "In addition to implementing code, there will be questions that you must answer which relate to the project and your implementation. Each section where you will answer a question is preceded by a **'Question X'** header. Carefully read each question and provide thorough answers in the following text boxes that begin with **'Answer:'**. Your project submission will be evaluated based on your answers to each of the questions and the implementation you provide.  \n",
    "\n",
    ">**Note:** Code and Markdown cells can be executed using the **Shift + Enter** keyboard shortcut. In addition, Markdown cells can be edited by typically double-clicking the cell to enter edit mode."
   ]
  },
  {
   "cell_type": "markdown",
   "metadata": {},
   "source": [
    "### Question 1 - Classification vs. Regression\n",
    "*Your goal for this project is to identify students who might need early intervention before they fail to graduate. Which type of supervised learning problem is this, classification or regression? Why?*"
   ]
  },
  {
   "cell_type": "markdown",
   "metadata": {},
   "source": [
    "**Answer: **I would choose Classification, as there are only 2 outcomes,viz. who needs early intervention and one who don't. Choosing between classification and Regression is done based on the output type."
   ]
  },
  {
   "cell_type": "markdown",
   "metadata": {},
   "source": [
    "## Exploring the Data\n",
    "Run the code cell below to load necessary Python libraries and load the student data. Note that the last column from this dataset, `'passed'`, will be our target label (whether the student graduated or didn't graduate). All other columns are features about each student."
   ]
  },
  {
   "cell_type": "code",
   "execution_count": 2,
   "metadata": {
    "collapsed": false
   },
   "outputs": [
    {
     "name": "stdout",
     "output_type": "stream",
     "text": [
      "Student data read successfully!\n"
     ]
    }
   ],
   "source": [
    "# Import libraries\n",
    "import numpy as np\n",
    "import pandas as pd\n",
    "from time import time\n",
    "from sklearn.metrics import f1_score\n",
    "\n",
    "# Read student data\n",
    "student_data = pd.read_csv(\"student-data.csv\")\n",
    "print \"Student data read successfully!\""
   ]
  },
  {
   "cell_type": "markdown",
   "metadata": {},
   "source": [
    "### Implementation: Data Exploration\n",
    "Let's begin by investigating the dataset to determine how many students we have information on, and learn about the graduation rate among these students. In the code cell below, you will need to compute the following:\n",
    "- The total number of students, `n_students`.\n",
    "- The total number of features for each student, `n_features`.\n",
    "- The number of those students who passed, `n_passed`.\n",
    "- The number of those students who failed, `n_failed`.\n",
    "- The graduation rate of the class, `grad_rate`, in percent (%).\n"
   ]
  },
  {
   "cell_type": "code",
   "execution_count": 3,
   "metadata": {
    "collapsed": false
   },
   "outputs": [
    {
     "name": "stdout",
     "output_type": "stream",
     "text": [
      "Total number of students: 395\n",
      "Number of features: 30\n",
      "Number of students who passed: 265\n",
      "Number of students who failed: 130\n",
      "Graduation rate of the class: 67.09%\n"
     ]
    }
   ],
   "source": [
    "# TODO: Calculate number of students\n",
    "n_students = len(student_data)  #number of rows in the csv file\n",
    "\n",
    "# TODO: Calculate number of features\n",
    "n_features = (student_data.shape[1] - 1)   # Total number of columns - 1, since last column (passed) is a label\n",
    "\n",
    "# TODO: Calculate passing students\n",
    "\n",
    "n_passed = len(student_data[student_data['passed'] == 'yes'])   #number of \"yes\" present in column name \"passed\" in student_data\n",
    "\n",
    "# TODO: Calculate failing students\n",
    "n_failed = len(student_data[student_data['passed'] == 'no'])    #number of \"no\" present in column name \"passed\" in student_data\n",
    "\n",
    "# TODO: Calculate graduation rate\n",
    "grad_rate = (float(n_passed)/n_students) * 100\n",
    "\n",
    "# Print the results\n",
    "print \"Total number of students: {}\".format(n_students)\n",
    "print \"Number of features: {}\".format(n_features)\n",
    "print \"Number of students who passed: {}\".format(n_passed)\n",
    "print \"Number of students who failed: {}\".format(n_failed)\n",
    "print \"Graduation rate of the class: {:.2f}%\".format(grad_rate)"
   ]
  },
  {
   "cell_type": "markdown",
   "metadata": {},
   "source": [
    "## Preparing the Data\n",
    "In this section, we will prepare the data for modeling, training and testing.\n",
    "\n",
    "### Identify feature and target columns\n",
    "It is often the case that the data you obtain contains non-numeric features. This can be a problem, as most machine learning algorithms expect numeric data to perform computations with.\n",
    "\n",
    "Run the code cell below to separate the student data into feature and target columns to see if any features are non-numeric."
   ]
  },
  {
   "cell_type": "code",
   "execution_count": 4,
   "metadata": {
    "collapsed": false
   },
   "outputs": [
    {
     "name": "stdout",
     "output_type": "stream",
     "text": [
      "Feature columns:\n",
      "['school', 'sex', 'age', 'address', 'famsize', 'Pstatus', 'Medu', 'Fedu', 'Mjob', 'Fjob', 'reason', 'guardian', 'traveltime', 'studytime', 'failures', 'schoolsup', 'famsup', 'paid', 'activities', 'nursery', 'higher', 'internet', 'romantic', 'famrel', 'freetime', 'goout', 'Dalc', 'Walc', 'health', 'absences']\n",
      "\n",
      "Target column: passed\n",
      "\n",
      "Feature values:\n",
      "  school sex  age address famsize Pstatus  Medu  Fedu     Mjob      Fjob  \\\n",
      "0     GP   F   18       U     GT3       A     4     4  at_home   teacher   \n",
      "1     GP   F   17       U     GT3       T     1     1  at_home     other   \n",
      "2     GP   F   15       U     LE3       T     1     1  at_home     other   \n",
      "3     GP   F   15       U     GT3       T     4     2   health  services   \n",
      "4     GP   F   16       U     GT3       T     3     3    other     other   \n",
      "\n",
      "    ...    higher internet  romantic  famrel  freetime goout Dalc Walc health  \\\n",
      "0   ...       yes       no        no       4         3     4    1    1      3   \n",
      "1   ...       yes      yes        no       5         3     3    1    1      3   \n",
      "2   ...       yes      yes        no       4         3     2    2    3      3   \n",
      "3   ...       yes      yes       yes       3         2     2    1    1      5   \n",
      "4   ...       yes       no        no       4         3     2    1    2      5   \n",
      "\n",
      "  absences  \n",
      "0        6  \n",
      "1        4  \n",
      "2       10  \n",
      "3        2  \n",
      "4        4  \n",
      "\n",
      "[5 rows x 30 columns]\n"
     ]
    }
   ],
   "source": [
    "###import matplotlib.pyplot as plt\n",
    "###%matplotlib inline\n",
    "###from sklearn.preprocessing import LabelEncoder\n",
    "\n",
    "# Extract feature columns\n",
    "feature_cols = list(student_data.columns[:-1])\n",
    "\n",
    "# Extract target column 'passed'\n",
    "target_col = student_data.columns[-1] \n",
    "\n",
    "###pas = student_data ['passed']\n",
    "###features = student_data.drop('passed', axis = 1)\n",
    "\n",
    "# Show the list of columns\n",
    "print \"Feature columns:\\n{}\".format(feature_cols)\n",
    "print \"\\nTarget column: {}\".format(target_col)\n",
    "\n",
    "# Separate the data into feature data and target data (X_all and y_all, respectively)\n",
    "X_all = student_data[feature_cols]\n",
    "y_all = student_data[target_col]\n",
    "\n",
    "# Show the feature information by printing the first five rows\n",
    "print \"\\nFeature values:\"\n",
    "print X_all.head()"
   ]
  },
  {
   "cell_type": "markdown",
   "metadata": {},
   "source": [
    "### Preprocess Feature Columns\n",
    "\n",
    "As you can see, there are several non-numeric columns that need to be converted! Many of them are simply `yes`/`no`, e.g. `internet`. These can be reasonably converted into `1`/`0` (binary) values.\n",
    "\n",
    "Other columns, like `Mjob` and `Fjob`, have more than two values, and are known as _categorical variables_. The recommended way to handle such a column is to create as many columns as possible values (e.g. `Fjob_teacher`, `Fjob_other`, `Fjob_services`, etc.), and assign a `1` to one of them and `0` to all others.\n",
    "\n",
    "These generated columns are sometimes called _dummy variables_, and we will use the [`pandas.get_dummies()`](http://pandas.pydata.org/pandas-docs/stable/generated/pandas.get_dummies.html?highlight=get_dummies#pandas.get_dummies) function to perform this transformation. Run the code cell below to perform the preprocessing routine discussed in this section."
   ]
  },
  {
   "cell_type": "code",
   "execution_count": 5,
   "metadata": {
    "collapsed": false
   },
   "outputs": [
    {
     "name": "stdout",
     "output_type": "stream",
     "text": [
      "Old Feature columns, with 30 features:\n",
      "['school', 'sex', 'age', 'address', 'famsize', 'Pstatus', 'Medu', 'Fedu', 'Mjob', 'Fjob', 'reason', 'guardian', 'traveltime', 'studytime', 'failures', 'schoolsup', 'famsup', 'paid', 'activities', 'nursery', 'higher', 'internet', 'romantic', 'famrel', 'freetime', 'goout', 'Dalc', 'Walc', 'health', 'absences']\n",
      "\n",
      "Processed feature columns (48 total features):\n",
      "['school_GP', 'school_MS', 'sex_F', 'sex_M', 'age', 'address_R', 'address_U', 'famsize_GT3', 'famsize_LE3', 'Pstatus_A', 'Pstatus_T', 'Medu', 'Fedu', 'Mjob_at_home', 'Mjob_health', 'Mjob_other', 'Mjob_services', 'Mjob_teacher', 'Fjob_at_home', 'Fjob_health', 'Fjob_other', 'Fjob_services', 'Fjob_teacher', 'reason_course', 'reason_home', 'reason_other', 'reason_reputation', 'guardian_father', 'guardian_mother', 'guardian_other', 'traveltime', 'studytime', 'failures', 'schoolsup', 'famsup', 'paid', 'activities', 'nursery', 'higher', 'internet', 'romantic', 'famrel', 'freetime', 'goout', 'Dalc', 'Walc', 'health', 'absences']\n"
     ]
    }
   ],
   "source": [
    "def preprocess_features(X):\n",
    "    ''' Preprocesses the student data and converts non-numeric binary variables into\n",
    "        binary (0/1) variables. Converts categorical variables into dummy variables. '''\n",
    "    \n",
    "    # Initialize new output DataFrame\n",
    "    output = pd.DataFrame(index = X.index)\n",
    "\n",
    "    # Investigate each feature column for the data\n",
    "    for col, col_data in X.iteritems():\n",
    "        \n",
    "        # If data type is non-numeric, replace all yes/no values with 1/0\n",
    "        if col_data.dtype == object:\n",
    "            col_data = col_data.replace(['yes', 'no'], [1, 0])\n",
    "\n",
    "        # If data type is categorical, convert to dummy variables\n",
    "        if col_data.dtype == object:\n",
    "            # Example: 'school' => 'school_GP' and 'school_MS'\n",
    "            col_data = pd.get_dummies(col_data, prefix = col)  \n",
    "        \n",
    "        # Collect the revised columns\n",
    "        output = output.join(col_data)\n",
    "    \n",
    "    return output\n",
    "\n",
    "print \"Old Feature columns, with 30 features:\\n{}\".format(feature_cols)  #added to see the comparison\n",
    "\n",
    "X_all = preprocess_features(X_all)\n",
    "print \"\\nProcessed feature columns ({} total features):\\n{}\".format(len(X_all.columns), list(X_all.columns))\n",
    "\n",
    "\n",
    "\n",
    "\n",
    "\n",
    "\n",
    "##########################\n",
    "##### visualize data #####\n",
    "##########################\n",
    "\n",
    "#new_label_1_0 = student_data['passed'] == 'Yes'\n",
    "#new_label_map = {'yes': 1, 'no': 0}\n",
    "#new_label_1_0 = student_data['passed'].map(new_label_map)\n",
    "#print \"\\n Label converted to 1 and 0 and it is {}\".format(new_label_1_0)\n",
    "\n",
    "#import matplotlib.pyplot as plt\n",
    "#%matplotlib inline\n",
    "#pas = new_label_1_0\n",
    "#features = X_all\n",
    "\n",
    "#for col2 in features.columns[:]:\n",
    "#    fig, ax = plt.subplots()\n",
    "#    #fit = np.polyfit(features [col2],pas, deg=1) # Linear fit to compute the trendline\n",
    "#    ax.scatter(features [col2],pas)\n",
    "#    #ax.bar(features [col2],pas)\n",
    "#    plt.plot(features [col2], pas, 'o', color='blue')\n",
    "#    #ax.plot( features[col2], fit[0] * features[col2] + fit[1], color='blue', linewidth=1)  \n",
    "#    plt.title('Passed Vs ' +str(col2)) # title \n",
    "#    plt.xlabel(col2) # x label \n",
    "#    plt.ylabel('Passed') # y label    "
   ]
  },
  {
   "cell_type": "markdown",
   "metadata": {},
   "source": [
    "### Implementation: Training and Testing Data Split\n",
    "So far, we have converted all _categorical_ features into numeric values. For the next step, we split the data (both features and corresponding labels) into training and test sets. In the following code cell below, you will need to implement the following:\n",
    "- Randomly shuffle and split the data (`X_all`, `y_all`) into training and testing subsets.\n",
    "  - Use 300 training points (approximately 75%) and 95 testing points (approximately 25%).\n",
    "  - Set a `random_state` for the function(s) you use, if provided.\n",
    "  - Store the results in `X_train`, `X_test`, `y_train`, and `y_test`."
   ]
  },
  {
   "cell_type": "code",
   "execution_count": 6,
   "metadata": {
    "collapsed": false
   },
   "outputs": [
    {
     "name": "stdout",
     "output_type": "stream",
     "text": [
      "0.33\n",
      "0.326315789474\n",
      "Training set has 300 samples.\n",
      "Testing set has 95 samples.\n"
     ]
    }
   ],
   "source": [
    "# TODO: Import any additional functionality you may need here\n",
    "#from sklearn.cross_validation import ShuffleSplit\n",
    "from sklearn.cross_validation import train_test_split\n",
    "\n",
    "# TODO: Set the number of training points\n",
    "num_train = 300\n",
    "\n",
    "# Set the number of testing points\n",
    "num_test = X_all.shape[0] - num_train\n",
    "\n",
    "# TODO: Shuffle and split the dataset into the number of training and testing points above\n",
    "X_train, X_test, y_train, y_test = train_test_split(X_all, y_all, test_size=0.24, train_size = 0.76, random_state=90, stratify = y_all)\n",
    "\n",
    "# see the distribution of labels\n",
    "print np.mean(y_train == 'no')\n",
    "print np.mean(y_test == 'no')\n",
    "# Show the results of the split\n",
    "print \"Training set has {} samples.\".format(X_train.shape[0])\n",
    "print \"Testing set has {} samples.\".format(X_test.shape[0])"
   ]
  },
  {
   "cell_type": "markdown",
   "metadata": {},
   "source": [
    "Mean of number of labels with \"no\" in train and test sets with stratify is 0.327702702703 and 0.333333333333 respectively.\n",
    "\n",
    "Mean of number of labels with \"no\" in train and test sets without stratify is 0.310810810811 and 0.383838383838 respectively.\n",
    "\n",
    "We need to have perfect shuffled data to get an unbiased output, which (output) may or may not be true."
   ]
  },
  {
   "cell_type": "markdown",
   "metadata": {},
   "source": [
    "## Training and Evaluating Models\n",
    "In this section, you will choose 3 supervised learning models that are appropriate for this problem and available in `scikit-learn`. You will first discuss the reasoning behind choosing these three models by considering what you know about the data and each model's strengths and weaknesses. You will then fit the model to varying sizes of training data (100 data points, 200 data points, and 300 data points) and measure the F<sub>1</sub> score. You will need to produce three tables (one for each model) that shows the training set size, training time, prediction time, F<sub>1</sub> score on the training set, and F<sub>1</sub> score on the testing set.\n",
    "\n",
    "**The following supervised learning models are currently available in** [`scikit-learn`](http://scikit-learn.org/stable/supervised_learning.html) **that you may choose from:**\n",
    "- Gaussian Naive Bayes (GaussianNB)\n",
    "- Decision Trees\n",
    "- Ensemble Methods (Bagging, AdaBoost, Random Forest, Gradient Boosting)\n",
    "- K-Nearest Neighbors (KNeighbors)\n",
    "- Stochastic Gradient Descent (SGDC)\n",
    "- Support Vector Machines (SVM)\n",
    "- Logistic Regression"
   ]
  },
  {
   "cell_type": "markdown",
   "metadata": {},
   "source": [
    "### Question 2 - Model Application\n",
    "*List three supervised learning models that are appropriate for this problem. For each model chosen*\n",
    "- Describe one real-world application in industry where the model can be applied. *(You may need to do a small bit of research for this — give references!)* \n",
    "- What are the strengths of the model; when does it perform well? \n",
    "- What are the weaknesses of the model; when does it perform poorly?\n",
    "- What makes this model a good candidate for the problem, given what you know about the data?"
   ]
  },
  {
   "cell_type": "markdown",
   "metadata": {},
   "source": [
    "**Answer:\n",
    "Initial high level analysis:\n",
    "<ol type=\"1\">\n",
    "<li> Our data is labeled, but we only have a limited amount of features (less than 20000), we should use a classifier with high bias, because a higher-bias classifier will have lower variance, which is good because of the small amount of data. Example Naive Bayes, Logistic regression etc...\n",
    "<li>As we have 48 features and most of them are either 1 or 0, Decision tree would be large (complex and time consuming) we need to make 2^(2^48) decisions\n",
    "<li> Data present is not clusters, it is either 1 or 0, small amount of features, so KNN cannot be used.\n",
    "<li> SVM can be used after linear classification to capture non-linear interactions.\n",
    "</ol>\n",
    "\n",
    "I would choose *Logistic regression, Support Vector Machine (SVM) and GradientBoostingClassifier (GBC)* from the initial high level analysis done. Also used sklearn's algorithm cheat sheet to arrive at my decision.\n",
    "\n",
    "<img src=\"http://scikit-learn.org/stable/_static/ml_map.png\" alt=\"Sklearn algo cheat sheet\" style=\"width:width;height:height;\">\n",
    "<ol type=\"1\">\n",
    "<li> **Logistic regression (LR)**: The simple and fast linear baseline model.\n",
    "<ol type=\"i\">\n",
    "<li> *Application in practice*: Trauma and Injury Severity Score (TRISS), which is widely used to predict mortality in injured patients, was originally developed using logistic regression. http://journals.lww.com/jtrauma/Abstract/1987/04000/Evaluating_Trauma_Care__The_TRISS_Method.5.aspx </a>\n",
    " \n",
    "<li> *Strength*: LR is a simple model that can be trained efficiently. Logistic regression will work better if there's a single decision boundary. Logistic regression is intrinsically simple, it has low variance and so is less prone to over-fitting. \n",
    "\n",
    "<li> *Weaknesses*: LR is a linear model and cannot capture any complex relationships between the data and the target variable. It is a high bias model and given sufficient data, other more complex models with less bias may outperform it. Logistic regression cannot predict continuous outcomes. For example, logistic regression can not be used to determine how high an influenza patient's fever will rise, because the scale of measurement, temperature is continuous. Temperature can be converted into discrete categories like \"high fever\" or \"low fever,\" but doing so would sacrifice the precision of the data set.\n",
    "\n",
    "<li> *Why I choose it*:  In classification, naive Bayes converges quicker but has typically a higher error than logistic regression. On small datasets naive Bayes works well, but as our training set size grows, we get better results with logistic regression.https://sebastianraschka.com/faq/docs/naive-bayes-vs-logistic-regression.html. LR is easy to apply and a solid baseline to compare other more complex methods. Thus, it should be the first thing to start with when looking for an optimal classifier. Of the three methods chosen, it is the one with high bias and low variance.\n",
    "</ol>\n",
    "\n",
    "<li> **Support Vector Machine (SVM)**: The more complex non-linear SVMs are usefull to capture non-linear interactions (RBF-kernel and the like). Purely linear SVMs often perform about as good as logistic regression. There wont be any significant difference to the logistic regression classifier for a linear kernel.\n",
    "\n",
    "<ol type=\"i\">\n",
    "<li> *Application in practice*: One example for SVMs used in practice in cancer classification, text categorization. \n",
    "\n",
    "<li> *Strenghts*: The big advantange of SVMs are that they apply the kernel trick to create non-linear decision boundaries. Thus, SVMs can capture very complex non-linear interactions in the data. Like LR, sklearn's SVM implementation supports class_weights, which allows to account for imbalanced class distributions. kernel trick makes it very awesome to find non-linearity in the data. Memory efficient, as they only have to remember the support vectors.\n",
    "\n",
    "<li> *Weaknesses*: SVMs are problematic if you have many data points and data with noise and many features. SVMs also have many hyperparameter options. You must specify C (for regularization) and kernel/gamma (for non-linear magic). Finding good hyperparameters can be hard work and possibly very time-consuming. Another weakness is that SVMs can only do binary classification. For multi-class classification, you must resort to more complex one-to-one schemes which fit classifiers for each pair of classes. Typically much slower\n",
    "\n",
    "<li> *Why I choose it*: Trying an SVM on the given dataset after doing LR seems like a good choice since SVMs can capture non-linear interactions. Comparing the two models given an indication as to whether non-linear classifiers are needed or not. Moreover, the classes in the given dataset are slightly imbalanced (67% vs 33%), so the class_weight paramteter may be helpful here. The dataset is also relatively small (only a few 100 rows), which is why the performance limitations of SVMs should not be too bad. Since we have a binary classification problem, SVM's limitation to binary classification is not a problem either. \n",
    "</ol>\n",
    "\n",
    "<li> **GradientBoostingClassifier (GBC)**: Computationally intensive ensemble method\n",
    "<ol type=\"i\">\n",
    "<li> *Application in practice*: Application of boosting for binary categorization is a system which detects pedestrians using patterns of motion and appearance. This work is the first to combine both motion information and appearance information as features to detect a walking person. It takes a similar approach as the face detection work of Viola and Jones.\n",
    "\n",
    "<li> *Strenghts*: As an ensemble method, GBC is a very robust classifier that can be applied easily with little preprocessing. It can capture very complex non-linear depenencies in the data. You can increase the number of boosting iterations of GBC as much as you want without danger of overfitting. Instead, it tends to improve classification performance more and more the longer you run it. Thus, you can use GBC to really get the most out of your data. Like SVMs, GBC also has a parameter sample_weight that allows to account for imbalanced class distributions. Typically they reduce the variance, as they are ensembles of trees.\n",
    "\n",
    "<li> *Weaknesses*: The clear drawback of boosting is that it trains lots of weak learners and due to the sequentiality of boosting, you cannot train these weak learners in parallel. Each tree individually requires time O(n * log(n)) for training (this is the optimized implementation of sklearn, normally it is O(n^2 log(n) for trees). Thus, gradient boosting will take considerable time if you run it many times, which is necesary to benefit from ensembling. We must also carefully select the many hyperparameters, which adds to the computational cost of boosting. In particular, we must get regularization right, since if your individual weak learners overfit to the training data, then boosting will not improve the performance no matter how long you run it (this is well explained in the Udacity's lectures on boosting). Another consideration could be deployment to production environments, which will be a lot more complicated as compared to simple models like LR (you would have to deploy all trained weak learners as well as the ensembling logic).\n",
    "\n",
    "<li> *Why I choose it*: GBC will allow to go to the limits of whats possible with the given dataset. Whatever complex relationships exist in the problem, GBC has a chance to find them provided that the amount of data is sufficient. Again, since the dataset is rather small, extensive experiments with hyperparameters are feasible. Having the ability to also adjust sample weights means I do not have to undersample (other techniques like SMOTE exist to mitigate imbalanced class distributions, but I don't think they will be necessary here). GBM is the low bias and high variance model, hence with higher training data, it would overfit and reduce prediction.*\n",
    "</ol>\n",
    "</ol>"
   ]
  },
  {
   "cell_type": "markdown",
   "metadata": {},
   "source": [
    "### Setup\n",
    "Run the code cell below to initialize three helper functions which you can use for training and testing the three supervised learning models you've chosen above. The functions are as follows:\n",
    "- `train_classifier` - takes as input a classifier and training data and fits the classifier to the data.\n",
    "- `predict_labels` - takes as input a fit classifier, features, and a target labeling and makes predictions using the F<sub>1</sub> score.\n",
    "- `train_predict` - takes as input a classifier, and the training and testing data, and performs `train_clasifier` and `predict_labels`.\n",
    " - This function will report the F<sub>1</sub> score for both the training and testing data separately."
   ]
  },
  {
   "cell_type": "code",
   "execution_count": 7,
   "metadata": {
    "collapsed": false
   },
   "outputs": [],
   "source": [
    "def train_classifier(clf, X_train, y_train):\n",
    "    ''' Fits a classifier to the training data. '''\n",
    "    \n",
    "    # Start the clock, train the classifier, then stop the clock\n",
    "    start = time()\n",
    "    clf.fit(X_train, y_train)\n",
    "    end = time()\n",
    "    \n",
    "    # Print the results\n",
    "    print(\"Trained model in {:.4f} seconds\".format(end - start))\n",
    "\n",
    "    \n",
    "def predict_labels(clf, features, target):\n",
    "    ''' Makes predictions using a fit classifier based on F1 score. '''\n",
    "    \n",
    "    # Start the clock, make predictions, then stop the clock\n",
    "    start = time()\n",
    "    y_pred = clf.predict(features)\n",
    "    end = time()\n",
    "    \n",
    "    # Print and return results\n",
    "    print(\"Made predictions in {:.4f} seconds.\".format(end - start))\n",
    "    return f1_score(target.values, y_pred, pos_label='yes')\n",
    "\n",
    "\n",
    "def train_predict(clf, X_train, y_train, X_test, y_test):\n",
    "    ''' Train and predict using a classifer based on F1 score. '''\n",
    "    \n",
    "    # Indicate the classifier and the training set size\n",
    "    print(\"Training a {} using a training set size of {}. . .\".format(clf.__class__.__name__, len(X_train)))\n",
    "    \n",
    "    # Train the classifier\n",
    "    train_classifier(clf, X_train, y_train)\n",
    "    \n",
    "    # Print the results of prediction for both training and testing\n",
    "    print(\"F1 score for training set: {:.4f}.\".format(predict_labels(clf, X_train, y_train)))\n",
    "    print(\"F1 score for test set: {:.4f}.\".format(predict_labels(clf, X_test, y_test)))\n"
   ]
  },
  {
   "cell_type": "markdown",
   "metadata": {},
   "source": [
    "### Implementation: Model Performance Metrics\n",
    "With the predefined functions above, you will now import the three supervised learning models of your choice and run the `train_predict` function for each one. Remember that you will need to train and predict on each classifier for three different training set sizes: 100, 200, and 300. Hence, you should expect to have 9 different outputs below — 3 for each model using the varying training set sizes. In the following code cell, you will need to implement the following:\n",
    "- Import the three supervised learning models you've discussed in the previous section.\n",
    "- Initialize the three models and store them in `clf_A`, `clf_B`, and `clf_C`.\n",
    " - Use a `random_state` for each model you use, if provided.\n",
    " - **Note:** Use the default settings for each model — you will tune one specific model in a later section.\n",
    "- Create the different training set sizes to be used to train each model.\n",
    " - *Do not reshuffle and resplit the data! The new training points should be drawn from `X_train` and `y_train`.*\n",
    "- Fit each model with each training set size and make predictions on the test set (9 in total).  \n",
    "**Note:** Three tables are provided after the following code cell which can be used to store your results."
   ]
  },
  {
   "cell_type": "code",
   "execution_count": 8,
   "metadata": {
    "collapsed": false
   },
   "outputs": [
    {
     "name": "stdout",
     "output_type": "stream",
     "text": [
      "Training a LogisticRegression using a training set size of 100. . .\n",
      "Trained model in 0.0310 seconds\n",
      "Made predictions in 0.0000 seconds.\n",
      "F1 score for training set: 0.8548.\n",
      "Made predictions in 0.0000 seconds.\n",
      "F1 score for test set: 0.7971.\n",
      "Training a LogisticRegression using a training set size of 200. . .\n",
      "Trained model in 0.0000 seconds\n",
      "Made predictions in 0.0000 seconds.\n",
      "F1 score for training set: 0.8662.\n",
      "Made predictions in 0.0000 seconds.\n",
      "F1 score for test set: 0.7647.\n",
      "Training a LogisticRegression using a training set size of 300. . .\n",
      "Trained model in 0.0000 seconds\n",
      "Made predictions in 0.0000 seconds.\n",
      "F1 score for training set: 0.8421.\n",
      "Made predictions in 0.0000 seconds.\n",
      "F1 score for test set: 0.7826.\n",
      "Training a SVC using a training set size of 100. . .\n",
      "Trained model in 0.0000 seconds\n",
      "Made predictions in 0.0000 seconds.\n",
      "F1 score for training set: 0.8531.\n",
      "Made predictions in 0.0000 seconds.\n",
      "F1 score for test set: 0.7703.\n",
      "Training a SVC using a training set size of 200. . .\n",
      "Trained model in 0.0000 seconds\n",
      "Made predictions in 0.0000 seconds.\n",
      "F1 score for training set: 0.8766.\n",
      "Made predictions in 0.0000 seconds.\n",
      "F1 score for test set: 0.8105.\n",
      "Training a SVC using a training set size of 300. . .\n",
      "Trained model in 0.0000 seconds\n",
      "Made predictions in 0.0160 seconds.\n",
      "F1 score for training set: 0.8777.\n",
      "Made predictions in 0.0000 seconds.\n",
      "F1 score for test set: 0.7945.\n",
      "Training a GradientBoostingClassifier using a training set size of 100. . .\n",
      "Trained model in 0.0460 seconds\n",
      "Made predictions in 0.0000 seconds.\n",
      "F1 score for training set: 1.0000.\n",
      "Made predictions in 0.0000 seconds.\n",
      "F1 score for test set: 0.7353.\n",
      "Training a GradientBoostingClassifier using a training set size of 200. . .\n",
      "Trained model in 0.0630 seconds\n",
      "Made predictions in 0.0000 seconds.\n",
      "F1 score for training set: 0.9890.\n",
      "Made predictions in 0.0000 seconds.\n",
      "F1 score for test set: 0.7973.\n",
      "Training a GradientBoostingClassifier using a training set size of 300. . .\n",
      "Trained model in 0.1140 seconds\n",
      "Made predictions in 0.0020 seconds.\n",
      "F1 score for training set: 0.9640.\n",
      "Made predictions in 0.0000 seconds.\n",
      "F1 score for test set: 0.7626.\n"
     ]
    }
   ],
   "source": [
    "# TODO: Import the three supervised learning models from sklearn\n",
    "from sklearn.linear_model import LogisticRegression\n",
    "from sklearn.ensemble import GradientBoostingClassifier\n",
    "from sklearn.svm import SVC\n",
    "\n",
    "my_random_state=90\n",
    "\n",
    "# TODO: Initialize the three models\n",
    "clf_A = LogisticRegression(random_state=my_random_state)\n",
    "clf_B = SVC(random_state=my_random_state) #C=3\n",
    "clf_C = GradientBoostingClassifier(random_state=my_random_state) #learning_rate=0.01\n",
    "classifiers = [clf_A, clf_B, clf_C]\n",
    "\n",
    "# TODO: Set up the training set sizes\n",
    "X_train_100 = X_train[:100]\n",
    "y_train_100 = y_train[:100]\n",
    "\n",
    "X_train_200 = X_train[:200]\n",
    "y_train_200 = y_train[:200]\n",
    "\n",
    "X_train_300 = X_train[:300]\n",
    "y_train_300 = y_train[:300]\n",
    "\n",
    "#X_train_100, X_test_100, y_train_100, y_test_100 = train_test_split(X_all, y_all, train_size = 0.255, random_state=90)\n",
    "#X_train_200, X_test_200, y_train_200, y_test_200 = train_test_split(X_all, y_all, train_size = 0.508, random_state=90)\n",
    "#X_train_300, X_test_300, y_train_300, y_test_300 = train_test_split(X_all, y_all, train_size = 0.762, random_state=90)\n",
    "train_sets = [(X_train_100, y_train_100), (X_train_200, y_train_200), (X_train_300, y_train_300)]\n",
    "\n",
    "# TODO: Execute the 'train_predict' function for each classifier and each training set size\n",
    "# train_predict(clf, X_train, y_train, X_test, y_test)\n",
    "for clf in classifiers:\n",
    "    for X, y in train_sets:\n",
    "        train_predict(clf, X, y, X_test, y_test)"
   ]
  },
  {
   "cell_type": "markdown",
   "metadata": {},
   "source": [
    "### Tabular Results\n",
    "Edit the cell below to see how a table can be designed in [Markdown](https://github.com/adam-p/markdown-here/wiki/Markdown-Cheatsheet#tables). You can record your results from above in the tables provided."
   ]
  },
  {
   "cell_type": "markdown",
   "metadata": {},
   "source": [
    "** Classifer 1 - LogisticRegression**  \n",
    "\n",
    "| Training Set Size | Training Time | Prediction Time (test) | F1 Score (train) | F1 Score without label shuffle(test) | F1 Score with label shuffle(test) |\n",
    "| :---------------: | :---------------------: | :--------------------: | :--------------: | :-------------: | :-------------: |\n",
    "| 100               |        0.0020           |   0.0000               |     0.8923       |     0.6822      |0.7976|\n",
    "| 200               |        0.0020           |    0.0000              |     0.8571       |      0.7287     |0.7660|\n",
    "| 300               |       0.0020            |      0.0030            |    0.8499        |    0.7121       |0.7860|\n",
    "\n",
    "** Classifer 2 - SVC**  \n",
    "\n",
    "| Training Set Size | Training Time | Prediction Time (test) | F1 Score (train) | F1 Score without label shuffle(test) | F1 Score with label shuffle(test) |\n",
    "| :---------------: | :---------------------: | :--------------------: | :--------------: | :-------------: | :-------------: |\n",
    "| 100               |     0.0000              |     0.0050             |      0.8921      |    0.7260       |0.7755           |\n",
    "| 200               |     0.0050              |        0.0050          |   0.8940         |    0.7500       |0.8119|\n",
    "| 300               |       0.0080            |     0.0070             |   0.8786         |   0.7712        |0.7943|\n",
    "\n",
    "** Classifer 3 - GradientBoostingClassifier**  \n",
    "\n",
    "| Training Set Size | Training Time | Prediction Time (test) | F1 Score (train) | F1 Score without label shufle(test) | F1 Score with label shuffle(test) |\n",
    "| :---------------: | :---------------------: | :--------------------: | :--------------: | :-------------: | :-------------: |\n",
    "| 100               |       0.0570            |       0.0030           |    1.0000        |  0.7154         |0.7388|\n",
    "| 200               |     0.0670              |           0.0000       |     0.9892       |    0.7031       |0.7938|\n",
    "| 300               |      0.1200             |   0.0020               |    0.9659        |  0.7246         |0.7638|"
   ]
  },
  {
   "cell_type": "markdown",
   "metadata": {},
   "source": [
    "Great idea to use train_test_split's stratify argument to make sure the labels are evenly split between the training and testing dataset. Increases F1 score drastically..."
   ]
  },
  {
   "cell_type": "markdown",
   "metadata": {},
   "source": [
    "## Choosing the Best Model\n",
    "In this final section, you will choose from the three supervised learning models the *best* model to use on the student data. You will then perform a grid search optimization for the model over the entire training set (`X_train` and `y_train`) by tuning at least one parameter to improve upon the untuned model's F<sub>1</sub> score. "
   ]
  },
  {
   "cell_type": "markdown",
   "metadata": {},
   "source": [
    "### Question 3 - Choosing the Best Model\n",
    "*Based on the experiments you performed earlier, in one to two paragraphs, explain to the board of supervisors what single model you chose as the best model. Which model is generally the most appropriate based on the available data, limited resources, cost, and performance?*"
   ]
  },
  {
   "cell_type": "markdown",
   "metadata": {},
   "source": [
    "**Answer:**\n",
    "I would go for the Logistic Regression classifier, moderately high test F1 score (can be increased by varying parameters, SVM has highest test F1 score, but time taken to process is high) process time is low, less complex model and suitable for the data in hand (majority of the data in linearly sepearble). Above table confirm that it is in fact the fastest of all three models (in terms of both training and prediction time). When using it, we will save valuable milliseconds of CPU time which you can spend on higher value computations.\n",
    "Moreover, Logistic Regression also seems to be the most effective of all tested models. The f1 score on the test set is higest, suggesting that it will perform best on future students. Moreover, the spread between F1 scores on train and test set are lowest. This is an indicator that LR is not overfitting to the small training set as much as the other models do."
   ]
  },
  {
   "cell_type": "markdown",
   "metadata": {},
   "source": [
    "Compute chi-squared stats between each non-negative feature and class. This score can be used to select the n_features features with the highest values for the test chi-squared statistic from X, which must contain only non-negative features such as booleans or frequencies (e.g., term counts in document classification), relative to the classes."
   ]
  },
  {
   "cell_type": "code",
   "execution_count": 9,
   "metadata": {
    "collapsed": false
   },
   "outputs": [
    {
     "name": "stdout",
     "output_type": "stream",
     "text": [
      "Training a GradientBoostingClassifier using a training set size of 300. . .\n",
      "Trained model in 0.0870 seconds\n",
      "Made predictions in 0.0000 seconds.\n",
      "F1 score for training set: 0.9640.\n",
      "Made predictions in 0.0000 seconds.\n",
      "F1 score for test set: 0.7626.\n"
     ]
    },
    {
     "name": "stderr",
     "output_type": "stream",
     "text": [
      "C:\\Users\\DTILAK\\AppData\\Local\\Continuum\\Anaconda2\\lib\\site-packages\\ipykernel\\__main__.py:4: FutureWarning: sort(columns=....) is deprecated, use sort_values(by=.....)\n"
     ]
    },
    {
     "data": {
      "text/plain": [
       "<matplotlib.axes._subplots.AxesSubplot at 0xa0e8f50>"
      ]
     },
     "execution_count": 9,
     "metadata": {},
     "output_type": "execute_result"
    },
    {
     "data": {
      "image/png": "[encoded data removed]",
      "text/plain": [
       "<matplotlib.figure.Figure at 0xa0e8ad0>"
      ]
     },
     "metadata": {},
     "output_type": "display_data"
    }
   ],
   "source": [
    "clf_C = GradientBoostingClassifier() #learning_rate=0.01\n",
    "train_predict(clf, X_train, y_train, X_test, y_test)\n",
    "clf_C.fit(X_train, y_train)\n",
    "Feature_Importance = pd.DataFrame(zip(X_train.columns, clf_C.feature_importances_), columns=['feature', 'importance']).sort('importance', ascending = False)\n",
    "\n",
    "#print Feature_Importance\n",
    "import matplotlib.pyplot as plt\n",
    "%matplotlib inline\n",
    "Feature_Importance.plot(kind='bar',x=\"feature\", y =\"importance\")"
   ]
  },
  {
   "cell_type": "code",
   "execution_count": 10,
   "metadata": {
    "collapsed": false
   },
   "outputs": [
    {
     "data": {
      "text/plain": [
       "<matplotlib.figure.Figure at 0xa0206d0>"
      ]
     },
     "metadata": {},
     "output_type": "display_data"
    },
    {
     "data": {
      "image/png": "[encoded data removed]",
      "text/plain": [
       "<matplotlib.figure.Figure at 0xa463450>"
      ]
     },
     "metadata": {},
     "output_type": "display_data"
    }
   ],
   "source": [
    "from sklearn.feature_selection import chi2\n",
    "from sklearn.linear_model import LogisticRegression\n",
    "\n",
    "clf = LogisticRegression().fit(X_train, y_train)\n",
    "scores, pvalues = chi2(X_train, y_train)\n",
    "coef = pd.DataFrame(zip(clf.coef_.T, np.exp(clf.coef_).T))\n",
    "coef.columns = ['Coef_','Odds_Ratio_']\n",
    "coef['P_values'] = pvalues\n",
    "coef.index = X_train.columns\n",
    "\n",
    "coef.Coef_ = coef.Coef_.astype(np.float64)\n",
    "coef.Odds_Ratio_ = coef.Odds_Ratio_.astype(np.float64)\n",
    "\n",
    "#print coef\n",
    "\n",
    "import matplotlib.pyplot as plt\n",
    "%matplotlib inline\n",
    "from pylab import rcParams\n",
    "rcParams['figure.figsize'] = 15,5\n",
    "plt.figure(); \n",
    "coef.plot(kind='bar');"
   ]
  },
  {
   "cell_type": "markdown",
   "metadata": {},
   "source": [
    "### Question 4 - Model in Layman's Terms\n",
    "*In one to two paragraphs, explain to the board of directors in layman's terms how the final model chosen is supposed to work. Be sure that you are describing the major qualities of the model, such as how the model is trained and how the model makes a prediction. Avoid using advanced mathematical or technical jargon, such as describing equations or discussing the algorithm implementation.*"
   ]
  },
  {
   "cell_type": "markdown",
   "metadata": {},
   "source": [
    "**Answer:** The model is able to predict how likely a student is to graduate. It does so by analysing the 395 student data, that already went through the program. By looking at the attributes of these students, it identifies cues that have been idicative for failing to graduate in the past. We can look for these cues in future students to get our intervention system. \n",
    "\n",
    " To get a feeling for how the model works, consider this situation, imaging you record two attributes for your students:\n",
    "goout: how much they go out with friends (the higher the value, the more they tend to go out)\n",
    "failures: how often they failed to pass a class before (the higher the value, the more often they failed before)\n",
    "You would probably expect both numbers to drive the chance of failing to graduate. Similar to these 2 parameters, we have combined various parameters to define this model, which predicts the chance of a student passing or failing, based on the input parameters of the test student.\n",
    "\n",
    "   After the initial training using the training data, Logistic Regression gives each feature a weight, as to which is important, odds of a student graduating (can be seen in the above graph). When we are predicting we take all feature values and use the weights generated to access each feature of the new student. We then sum up all the results. This final result is applied to a special function called Sigmoid/Logistic function, if the sum is less than threshold (0), student might not graduate, else the student would probably graduate, also the system would learn from this new students data and become more intelligent over time."
   ]
  },
  {
   "cell_type": "markdown",
   "metadata": {},
   "source": [
    "### Implementation: Model Tuning\n",
    "Fine tune the chosen model. Use grid search (`GridSearchCV`) with at least one important parameter tuned with at least 3 different values. You will need to use the entire training set for this. In the code cell below, you will need to implement the following:\n",
    "- Import [`sklearn.grid_search.GridSearchCV`](http://scikit-learn.org/0.17/modules/generated/sklearn.grid_search.GridSearchCV.html) and [`sklearn.metrics.make_scorer`](http://scikit-learn.org/stable/modules/generated/sklearn.metrics.make_scorer.html).\n",
    "- Create a dictionary of parameters you wish to tune for the chosen model.\n",
    " - Example: `parameters = {'parameter' : [list of values]}`.\n",
    "- Initialize the classifier you've chosen and store it in `clf`.\n",
    "- Create the F<sub>1</sub> scoring function using `make_scorer` and store it in `f1_scorer`.\n",
    " - Set the `pos_label` parameter to the correct value!\n",
    "- Perform grid search on the classifier `clf` using `f1_scorer` as the scoring method, and store it in `grid_obj`.\n",
    "- Fit the grid search object to the training data (`X_train`, `y_train`), and store it in `grid_obj`."
   ]
  },
  {
   "cell_type": "code",
   "execution_count": null,
   "metadata": {
    "collapsed": false
   },
   "outputs": [],
   "source": [
    "# TODO: Import 'GridSearchCV' and 'make_scorer'\n",
    "\n",
    "# TODO: Create the parameters list you wish to tune\n",
    "parameters = None\n",
    "\n",
    "# TODO: Initialize the classifier\n",
    "clf = None\n",
    "\n",
    "# TODO: Make an f1 scoring function using 'make_scorer' \n",
    "f1_scorer = None\n",
    "\n",
    "# TODO: Perform grid search on the classifier using the f1_scorer as the scoring method\n",
    "grid_obj = None\n",
    "\n",
    "# TODO: Fit the grid search object to the training data and find the optimal parameters\n",
    "grid_obj = None\n",
    "\n",
    "# Get the estimator\n",
    "clf = grid_obj.best_estimator_\n",
    "\n",
    "# Report the final F1 score for training and testing after parameter tuning\n",
    "print \"Tuned model has a training F1 score of {:.4f}.\".format(predict_labels(clf, X_train, y_train))\n",
    "print \"Tuned model has a testing F1 score of {:.4f}.\".format(predict_labels(clf, X_test, y_test))"
   ]
  },
  {
   "cell_type": "markdown",
   "metadata": {},
   "source": [
    "### Question 5 - Final F<sub>1</sub> Score\n",
    "*What is the final model's F<sub>1</sub> score for training and testing? How does that score compare to the untuned model?*"
   ]
  },
  {
   "cell_type": "markdown",
   "metadata": {},
   "source": [
    "**Answer: **"
   ]
  },
  {
   "cell_type": "markdown",
   "metadata": {},
   "source": [
    "> **Note**: Once you have completed all of the code implementations and successfully answered each question above, you may finalize your work by exporting the iPython Notebook as an HTML document. You can do this by using the menu above and navigating to  \n",
    "**File -> Download as -> HTML (.html)**. Include the finished document along with this notebook as your submission."
   ]
  }
 ],
 "metadata": {
  "anaconda-cloud": {},
  "kernelspec": {
   "display_name": "Python [default]",
   "language": "python",
   "name": "python2"
  },
  "language_info": {
   "codemirror_mode": {
    "name": "ipython",
    "version": 2
   },
   "file_extension": ".py",
   "mimetype": "text/x-python",
   "name": "python",
   "nbconvert_exporter": "python",
   "pygments_lexer": "ipython2",
   "version": "2.7.12"
  }
 },
 "nbformat": 4,
 "nbformat_minor": 0
}
